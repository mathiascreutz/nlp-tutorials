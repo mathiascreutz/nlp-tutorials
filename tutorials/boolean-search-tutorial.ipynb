{
 "cells": [
  {
   "cell_type": "markdown",
   "metadata": {},
   "source": [
    "# Boolean search in Python on toy data\n",
    "\n",
    "This code has been adapted and inspired from the notebooks by Filip Ginter for the course *Information Retrieval* given in the spring of 2017 at the University of Turku.\n",
    "\n",
    "Let's first create some toy data, that is, four sentences that we consider to be our \"documents\":"
   ]
  },
  {
   "cell_type": "code",
   "execution_count": 1,
   "metadata": {},
   "outputs": [],
   "source": [
    "documents = [\"This is a silly example\",\n",
    "             \"A better example\",\n",
    "             \"Nothing to see here\",\n",
    "             \"This is a great and long example\"]"
   ]
  },
  {
   "cell_type": "markdown",
   "metadata": {},
   "source": [
    "## Term-document matrix\n",
    "\n",
    "We need to import some functionality from sklearn (also called scikit-learn), which is a free software machine learning library for Python."
   ]
  },
  {
   "cell_type": "code",
   "execution_count": 2,
   "metadata": {},
   "outputs": [],
   "source": [
    "from sklearn.feature_extraction.text import CountVectorizer"
   ]
  },
  {
   "cell_type": "markdown",
   "metadata": {},
   "source": [
    "We use the CountVectorizer class to create a *term-document* matrix of our data:"
   ]
  },
  {
   "cell_type": "code",
   "execution_count": 3,
   "metadata": {},
   "outputs": [
    {
     "name": "stdout",
     "output_type": "stream",
     "text": [
      "Term-document matrix: (?)\n",
      "\n",
      "  (0, 2)\t1\n",
      "  (0, 9)\t1\n",
      "  (0, 5)\t1\n",
      "  (0, 10)\t1\n",
      "  (1, 1)\t1\n",
      "  (1, 2)\t1\n",
      "  (2, 4)\t1\n",
      "  (2, 8)\t1\n",
      "  (2, 11)\t1\n",
      "  (2, 7)\t1\n",
      "  (3, 6)\t1\n",
      "  (3, 0)\t1\n",
      "  (3, 3)\t1\n",
      "  (3, 2)\t1\n",
      "  (3, 5)\t1\n",
      "  (3, 10)\t1\n"
     ]
    }
   ],
   "source": [
    "cv = CountVectorizer(lowercase=True, binary=True)\n",
    "sparse_matrix = cv.fit_transform(documents)\n",
    "\n",
    "print(\"Term-document matrix: (?)\\n\")\n",
    "print(sparse_matrix)"
   ]
  },
  {
   "cell_type": "markdown",
   "metadata": {},
   "source": [
    "Oops, this does not look like a matrix. It is because the matrix is stored in a _sparse_ format to save memory. How do we read this? For instance, we can see that in the coordinate (0, 2) of the matrix there is a 1, and in the coordinate (0, 9) there is also a 1.\n",
    "\n",
    "All positions in the matrix not explicitly mentioned contain a zero, so we save memory by not storing all zeros. The matrix is assumed to be sparse, that is, most of the elements are zero.\n",
    "\n",
    "Anyway, let's print a _dense_ version of this matrix:"
   ]
  },
  {
   "cell_type": "code",
   "execution_count": 4,
   "metadata": {},
   "outputs": [
    {
     "name": "stdout",
     "output_type": "stream",
     "text": [
      "Term-document matrix: (?)\n",
      "\n",
      "[[0 0 1 0 0 1 0 0 0 1 1 0]\n",
      " [0 1 1 0 0 0 0 0 0 0 0 0]\n",
      " [0 0 0 0 1 0 0 1 1 0 0 1]\n",
      " [1 0 1 1 0 1 1 0 0 0 1 0]]\n"
     ]
    }
   ],
   "source": [
    "dense_matrix = sparse_matrix.todense()\n",
    "\n",
    "print(\"Term-document matrix: (?)\\n\")\n",
    "print(dense_matrix)"
   ]
  },
  {
   "cell_type": "markdown",
   "metadata": {},
   "source": [
    "This looks better, but... There are four documents, so the rows must now be the documents and the columns the terms (= words). However, we want to have a *term-document* matrix, not a *document-term* matrix.\n",
    "\n",
    "Let's *transpose* the matrix, so that the rows and columns change places:"
   ]
  },
  {
   "cell_type": "code",
   "execution_count": 5,
   "metadata": {},
   "outputs": [
    {
     "name": "stdout",
     "output_type": "stream",
     "text": [
      "Term-document matrix:\n",
      "\n",
      "[[0 0 0 1]\n",
      " [0 1 0 0]\n",
      " [1 1 0 1]\n",
      " [0 0 0 1]\n",
      " [0 0 1 0]\n",
      " [1 0 0 1]\n",
      " [0 0 0 1]\n",
      " [0 0 1 0]\n",
      " [0 0 1 0]\n",
      " [1 0 0 0]\n",
      " [1 0 0 1]\n",
      " [0 0 1 0]]\n"
     ]
    }
   ],
   "source": [
    "td_matrix = dense_matrix.T   # .T transposes the matrix\n",
    "\n",
    "print(\"Term-document matrix:\\n\")\n",
    "print(td_matrix)"
   ]
  },
  {
   "cell_type": "markdown",
   "metadata": {},
   "source": [
    "From this matrix we can read, for instance, that the term represented by the first row `[0 0 0 1]` occurs only in the fourth document (_\"This is a great and long example\"_). It further tells us, for example, that the term on the third row `[1 1 0 1]` occurs in all but the third document.\n",
    "\n",
    "So, how can we know which terms the different rows represent?\n",
    "\n",
    "Here goes the ordered list of terms:"
   ]
  },
  {
   "cell_type": "code",
   "execution_count": 6,
   "metadata": {},
   "outputs": [
    {
     "name": "stdout",
     "output_type": "stream",
     "text": [
      "\n",
      "IDX -> terms mapping:\n",
      "\n",
      "['and', 'better', 'example', 'great', 'here', 'is', 'long', 'nothing', 'see', 'silly', 'this', 'to']\n"
     ]
    }
   ],
   "source": [
    "print(\"\\nIDX -> terms mapping:\\n\")\n",
    "print(cv.get_feature_names_out())"
   ]
  },
  {
   "cell_type": "markdown",
   "metadata": {},
   "source": [
    "So, the first row represents the word \"and\" and the third row the word \"example\".\n",
    "\n",
    "Let's double-check that:"
   ]
  },
  {
   "cell_type": "code",
   "execution_count": 7,
   "metadata": {},
   "outputs": [
    {
     "name": "stdout",
     "output_type": "stream",
     "text": [
      "First term (with row index 0): and\n",
      "Third term (with row index 2): example\n"
     ]
    }
   ],
   "source": [
    "terms = cv.get_feature_names_out()\n",
    "\n",
    "print(\"First term (with row index 0):\", terms[0])\n",
    "print(\"Third term (with row index 2):\", terms[2])"
   ]
  },
  {
   "cell_type": "markdown",
   "metadata": {},
   "source": [
    "It is also possible to map the other way around, from term to index:"
   ]
  },
  {
   "cell_type": "code",
   "execution_count": 8,
   "metadata": {},
   "outputs": [
    {
     "name": "stdout",
     "output_type": "stream",
     "text": [
      "\n",
      "term -> IDX mapping:\n",
      "\n",
      "{'this': 10, 'is': 5, 'silly': 9, 'example': 2, 'better': 1, 'nothing': 7, 'to': 11, 'see': 8, 'here': 4, 'great': 3, 'and': 0, 'long': 6}\n"
     ]
    }
   ],
   "source": [
    "print(\"\\nterm -> IDX mapping:\\n\")\n",
    "print(cv.vocabulary_) # note the _ at the end"
   ]
  },
  {
   "cell_type": "markdown",
   "metadata": {},
   "source": [
    "`.vocabulary_` (with a trailing underscore) is a Python dictionary:"
   ]
  },
  {
   "cell_type": "code",
   "execution_count": 9,
   "metadata": {},
   "outputs": [
    {
     "name": "stdout",
     "output_type": "stream",
     "text": [
      "Row index of 'example': 2\n",
      "Row index of 'silly': 9\n"
     ]
    }
   ],
   "source": [
    "print(\"Row index of 'example':\", cv.vocabulary_[\"example\"])\n",
    "print(\"Row index of 'silly':\", cv.vocabulary_[\"silly\"])"
   ]
  },
  {
   "cell_type": "markdown",
   "metadata": {},
   "source": [
    "## First simple searches\n",
    "\n",
    "Let's \"search\" for the term \"example\" in our \"document collection\":"
   ]
  },
  {
   "cell_type": "code",
   "execution_count": 10,
   "metadata": {},
   "outputs": [
    {
     "name": "stdout",
     "output_type": "stream",
     "text": [
      "Query: example\n",
      "[[1 1 0 1]]\n"
     ]
    }
   ],
   "source": [
    "t2i = cv.vocabulary_  # shorter notation: t2i = term-to-index\n",
    "print(\"Query: example\")\n",
    "print(td_matrix[t2i[\"example\"]])"
   ]
  },
  {
   "cell_type": "markdown",
   "metadata": {},
   "source": [
    "The term \"example\" occurs in all but the third document, which we already knew...\n",
    "\n",
    "What about searching for documents containg \"example\" AND \"great\"?"
   ]
  },
  {
   "cell_type": "code",
   "execution_count": 11,
   "metadata": {},
   "outputs": [
    {
     "name": "stdout",
     "output_type": "stream",
     "text": [
      "Query: example AND great\n",
      "example occurs in:                             [[1 1 0 1]]\n",
      "great occurs in:                               [[0 0 0 1]]\n",
      "Both occur in the intersection (AND operator): [[0 0 0 1]]\n"
     ]
    }
   ],
   "source": [
    "print(\"Query: example AND great\")\n",
    "print(\"example occurs in:                            \", td_matrix[t2i[\"example\"]])\n",
    "print(\"great occurs in:                              \", td_matrix[t2i[\"great\"]])\n",
    "print(\"Both occur in the intersection (AND operator):\", td_matrix[t2i[\"example\"]] & td_matrix[t2i[\"great\"]])"
   ]
  },
  {
   "cell_type": "markdown",
   "metadata": {},
   "source": [
    "Let's search for \"is\" OR \"see\":"
   ]
  },
  {
   "cell_type": "code",
   "execution_count": 12,
   "metadata": {},
   "outputs": [
    {
     "name": "stdout",
     "output_type": "stream",
     "text": [
      "Query: is OR see\n",
      "is occurs in:                             [[1 0 0 1]]\n",
      "see occurs in:                            [[0 0 1 0]]\n",
      "Either occurs in the union (OR operator): [[1 0 1 1]]\n"
     ]
    }
   ],
   "source": [
    "print(\"Query: is OR see\")\n",
    "print(\"is occurs in:                            \", td_matrix[t2i[\"is\"]])\n",
    "print(\"see occurs in:                           \", td_matrix[t2i[\"see\"]])\n",
    "print(\"Either occurs in the union (OR operator):\", td_matrix[t2i[\"is\"]] | td_matrix[t2i[\"see\"]])"
   ]
  },
  {
   "cell_type": "markdown",
   "metadata": {},
   "source": [
    "Let's find all document that do not contain \"this\":"
   ]
  },
  {
   "cell_type": "code",
   "execution_count": 13,
   "metadata": {},
   "outputs": [
    {
     "name": "stdout",
     "output_type": "stream",
     "text": [
      "Query: NOT this\n",
      "this occurs in:                      [[1 0 0 1]]\n",
      "this does not occur in (complement): [[0 1 1 0]]\n"
     ]
    }
   ],
   "source": [
    "print(\"Query: NOT this\")\n",
    "print(\"this occurs in:                     \", td_matrix[t2i[\"this\"]])\n",
    "print(\"this does not occur in (complement):\", 1 - td_matrix[t2i[\"this\"]]) # 1 - x changes 1 to 0 and 0 to 1"
   ]
  },
  {
   "cell_type": "markdown",
   "metadata": {},
   "source": [
    "Finally, let's create a more complex query:"
   ]
  },
  {
   "cell_type": "code",
   "execution_count": 14,
   "metadata": {},
   "outputs": [
    {
     "name": "stdout",
     "output_type": "stream",
     "text": [
      "Query: ( example AND NOT this ) OR nothing\n",
      "example occurs in:                   [[1 1 0 1]]\n",
      "this does not occur in:              [[0 1 1 0]]\n",
      "example AND NOT this:                [[0 1 0 0]]\n",
      "nothing occurs in:                   [[0 0 1 0]]\n",
      "( example AND NOT this ) OR nothing: [[0 1 1 0]]\n"
     ]
    }
   ],
   "source": [
    "print(\"Query: ( example AND NOT this ) OR nothing\")\n",
    "print(\"example occurs in:                  \", td_matrix[t2i[\"example\"]])\n",
    "print(\"this does not occur in:             \", 1 - td_matrix[t2i[\"this\"]])\n",
    "print(\"example AND NOT this:               \", td_matrix[t2i[\"example\"]] & (1 - td_matrix[t2i[\"this\"]]))\n",
    "print(\"nothing occurs in:                  \", td_matrix[t2i[\"nothing\"]])\n",
    "print(\"( example AND NOT this ) OR nothing:\", \n",
    "      (td_matrix[t2i[\"example\"]] & (1 - td_matrix[t2i[\"this\"]])) | td_matrix[t2i[\"nothing\"]])"
   ]
  },
  {
   "cell_type": "markdown",
   "metadata": {},
   "source": [
    "## Simple query parser\n",
    "\n",
    "There is a lot of writing that goes into these queries, so let's create a simple query parser, which does part of the job for us. Now we can type the queries in a much simpler way:"
   ]
  },
  {
   "cell_type": "code",
   "execution_count": 15,
   "metadata": {},
   "outputs": [
    {
     "name": "stdout",
     "output_type": "stream",
     "text": [
      "Query: 'example AND NOT nothing'\n",
      "Rewritten: td_matrix[t2i[\"example\"]] & 1 - td_matrix[t2i[\"nothing\"]]\n",
      "Matching: [[1 1 0 1]]\n",
      "\n",
      "Query: 'NOT example OR great'\n",
      "Rewritten: 1 - td_matrix[t2i[\"example\"]] | td_matrix[t2i[\"great\"]]\n",
      "Matching: [[0 0 1 1]]\n",
      "\n",
      "Query: '( NOT example OR great ) AND nothing'\n",
      "Rewritten: ( 1 - td_matrix[t2i[\"example\"]] | td_matrix[t2i[\"great\"]] ) & td_matrix[t2i[\"nothing\"]]\n",
      "Matching: [[0 0 1 0]]\n",
      "\n",
      "Query: '( not example or great ) and nothing'\n",
      "Rewritten: ( 1 - td_matrix[t2i[\"example\"]] | td_matrix[t2i[\"great\"]] ) & td_matrix[t2i[\"nothing\"]]\n",
      "Matching: [[0 0 1 0]]\n",
      "\n",
      "Query: 'not example and not nothing'\n",
      "Rewritten: 1 - td_matrix[t2i[\"example\"]] & 1 - td_matrix[t2i[\"nothing\"]]\n",
      "Matching: [[0 0 0 0]]\n",
      "\n"
     ]
    }
   ],
   "source": [
    "# Operators and/AND, or/OR, not/NOT become &, |, 1 -\n",
    "# Parentheses are left untouched\n",
    "# Everything else is interpreted as a term and fed through td_matrix[t2i[\"...\"]]\n",
    "\n",
    "d = {\"and\": \"&\", \"AND\": \"&\",\n",
    "     \"or\": \"|\", \"OR\": \"|\",\n",
    "     \"not\": \"1 -\", \"NOT\": \"1 -\",\n",
    "     \"(\": \"(\", \")\": \")\"}          # operator replacements\n",
    "\n",
    "def rewrite_token(t):\n",
    "    return d.get(t, 'td_matrix[t2i[\"{:s}\"]]'.format(t)) # Can you figure out what happens here?\n",
    "\n",
    "def rewrite_query(query): # rewrite every token in the query\n",
    "    return \" \".join(rewrite_token(t) for t in query.split())\n",
    "\n",
    "def test_query(query):\n",
    "    print(\"Query: '\" + query + \"'\")\n",
    "    print(\"Rewritten:\", rewrite_query(query))\n",
    "    print(\"Matching:\", eval(rewrite_query(query))) # Eval runs the string as a Python command\n",
    "    print()\n",
    "\n",
    "test_query(\"example AND NOT nothing\")\n",
    "test_query(\"NOT example OR great\")\n",
    "test_query(\"( NOT example OR great ) AND nothing\") # AND, OR, NOT can be written either in ALLCAPS\n",
    "test_query(\"( not example or great ) and nothing\") # ... or all small letters\n",
    "test_query(\"not example and not nothing\")"
   ]
  },
  {
   "cell_type": "markdown",
   "metadata": {},
   "source": [
    "## Scaling up to larger document collections\n",
    "\n",
    "Our toy document collection is ridiculously small, both in number of documents (4) and in the length of the documents (max 7 words per document). We will next see how we can extend our code to handle more real-sized document collections.\n",
    "\n",
    "In order to handle large amounts of data, we need to use the sparse matrix format, in which we only record the non-zero elements. Now, there are two alternatives of doing this: Compressed Sparse Row (CSR) or Compressed Sparse Column (CSC) format. That is, either the matrix \"knows\" for every row which columns are non-zero, or the matrix \"knows\" for every column which rows are non-zero.\n",
    "\n",
    "Our sparse matrix is CSR, because we can see that the information is ordered by the first (row) coordinate:"
   ]
  },
  {
   "cell_type": "code",
   "execution_count": 16,
   "metadata": {},
   "outputs": [
    {
     "name": "stdout",
     "output_type": "stream",
     "text": [
      "  (0, 2)\t1\n",
      "  (0, 9)\t1\n",
      "  (0, 5)\t1\n",
      "  (0, 10)\t1\n",
      "  (1, 1)\t1\n",
      "  (1, 2)\t1\n",
      "  (2, 4)\t1\n",
      "  (2, 8)\t1\n",
      "  (2, 11)\t1\n",
      "  (2, 7)\t1\n",
      "  (3, 6)\t1\n",
      "  (3, 0)\t1\n",
      "  (3, 3)\t1\n",
      "  (3, 2)\t1\n",
      "  (3, 5)\t1\n",
      "  (3, 10)\t1\n"
     ]
    }
   ],
   "source": [
    "print(sparse_matrix)"
   ]
  },
  {
   "cell_type": "markdown",
   "metadata": {},
   "source": [
    "We can convert the sparse matrix to CSC format, such that the information is ordered by the second (column) coordinate instead:"
   ]
  },
  {
   "cell_type": "code",
   "execution_count": 17,
   "metadata": {},
   "outputs": [
    {
     "name": "stdout",
     "output_type": "stream",
     "text": [
      "  (3, 0)\t1\n",
      "  (1, 1)\t1\n",
      "  (0, 2)\t1\n",
      "  (1, 2)\t1\n",
      "  (3, 2)\t1\n",
      "  (3, 3)\t1\n",
      "  (2, 4)\t1\n",
      "  (0, 5)\t1\n",
      "  (3, 5)\t1\n",
      "  (3, 6)\t1\n",
      "  (2, 7)\t1\n",
      "  (2, 8)\t1\n",
      "  (0, 9)\t1\n",
      "  (0, 10)\t1\n",
      "  (3, 10)\t1\n",
      "  (2, 11)\t1\n"
     ]
    }
   ],
   "source": [
    "print(sparse_matrix.tocsc())"
   ]
  },
  {
   "cell_type": "markdown",
   "metadata": {},
   "source": [
    "As you might remember from above, this is a *document-term* matrix, whereas we want a *term-document* matrix, so let's transpose:"
   ]
  },
  {
   "cell_type": "code",
   "execution_count": 18,
   "metadata": {},
   "outputs": [
    {
     "name": "stdout",
     "output_type": "stream",
     "text": [
      "  (2, 0)\t1\n",
      "  (9, 0)\t1\n",
      "  (5, 0)\t1\n",
      "  (10, 0)\t1\n",
      "  (1, 1)\t1\n",
      "  (2, 1)\t1\n",
      "  (4, 2)\t1\n",
      "  (8, 2)\t1\n",
      "  (11, 2)\t1\n",
      "  (7, 2)\t1\n",
      "  (6, 3)\t1\n",
      "  (0, 3)\t1\n",
      "  (3, 3)\t1\n",
      "  (2, 3)\t1\n",
      "  (5, 3)\t1\n",
      "  (10, 3)\t1\n"
     ]
    }
   ],
   "source": [
    "print(sparse_matrix.T)"
   ]
  },
  {
   "cell_type": "markdown",
   "metadata": {},
   "source": [
    "This matrix is CSC, but we want it to be CSR, so that it is ordered by terms rather than documents for faster lookup. (The search engine primarily tries to find which documents a given term occurs in, not which terms occur in a given document.)\n",
    "\n",
    "As a matter of fact, the data structure we have now is a so-called *inverted index*:"
   ]
  },
  {
   "cell_type": "code",
   "execution_count": 19,
   "metadata": {},
   "outputs": [
    {
     "name": "stdout",
     "output_type": "stream",
     "text": [
      "  (0, 3)\t1\n",
      "  (1, 1)\t1\n",
      "  (2, 0)\t1\n",
      "  (2, 1)\t1\n",
      "  (2, 3)\t1\n",
      "  (3, 3)\t1\n",
      "  (4, 2)\t1\n",
      "  (5, 0)\t1\n",
      "  (5, 3)\t1\n",
      "  (6, 3)\t1\n",
      "  (7, 2)\t1\n",
      "  (8, 2)\t1\n",
      "  (9, 0)\t1\n",
      "  (10, 0)\t1\n",
      "  (10, 3)\t1\n",
      "  (11, 2)\t1\n"
     ]
    }
   ],
   "source": [
    "sparse_td_matrix = sparse_matrix.T.tocsr()\n",
    "print(sparse_td_matrix)"
   ]
  },
  {
   "cell_type": "markdown",
   "metadata": {},
   "source": [
    "Unfortunately our Boolean logic does not work on sparse matrices. Every row that we retrieve from the term-document matrix must be made dense before we apply our operations. This is not a big deal unless we have a huge number of documents in the collection. We redefine the `rewrite_token()` function:"
   ]
  },
  {
   "cell_type": "code",
   "execution_count": 20,
   "metadata": {},
   "outputs": [
    {
     "name": "stdout",
     "output_type": "stream",
     "text": [
      "Query: 'NOT example OR great'\n",
      "Rewritten: 1 - sparse_td_matrix[t2i[\"example\"]].todense() | sparse_td_matrix[t2i[\"great\"]].todense()\n",
      "Matching: [[0 0 1 1]]\n",
      "\n"
     ]
    }
   ],
   "source": [
    "def rewrite_token(t):\n",
    "    return d.get(t, 'sparse_td_matrix[t2i[\"{:s}\"]].todense()'.format(t)) # Make retrieved rows dense\n",
    "\n",
    "test_query(\"NOT example OR great\")"
   ]
  },
  {
   "cell_type": "markdown",
   "metadata": {},
   "source": [
    "## Show retrieved documents\n",
    "\n",
    "Showing a vector of ones and zeros is maybe not the optimal representation of the matching documents. Let's print the documents instead."
   ]
  },
  {
   "cell_type": "code",
   "execution_count": 21,
   "metadata": {},
   "outputs": [
    {
     "name": "stdout",
     "output_type": "stream",
     "text": [
      "Matching documents as vector (it is actually a matrix with one single row): [[0 0 1 1]]\n",
      "The coordinates of the non-zero elements: (array([0, 0]), array([2, 3]))\n"
     ]
    }
   ],
   "source": [
    "hits_matrix = eval(rewrite_query(\"NOT example OR great\"))\n",
    "print(\"Matching documents as vector (it is actually a matrix with one single row):\", hits_matrix)\n",
    "print(\"The coordinates of the non-zero elements:\", hits_matrix.nonzero())    "
   ]
  },
  {
   "cell_type": "markdown",
   "metadata": {},
   "source": [
    "The first array `[0, 0]` shows the matching \"x coordinates\" (rows) and the second array shows the corresponding \"y coordinates\" `[2, 3]`. So, we have two matching documents – at positions (0, 2) and (0, 3) of `hits_matrix`.\n",
    "\n",
    "The first array will always just contain zeros, because there is only one row, so we only need to bother about the second array. Let's extract it and convert it from a NumPy array to an ordinary Python list:"
   ]
  },
  {
   "cell_type": "code",
   "execution_count": 22,
   "metadata": {},
   "outputs": [
    {
     "name": "stdout",
     "output_type": "stream",
     "text": [
      "[2, 3]\n"
     ]
    }
   ],
   "source": [
    "hits_list = list(hits_matrix.nonzero()[1])\n",
    "print(hits_list)"
   ]
  },
  {
   "cell_type": "markdown",
   "metadata": {},
   "source": [
    "We can use the hits list to retrieve the matching documents:"
   ]
  },
  {
   "cell_type": "code",
   "execution_count": 23,
   "metadata": {},
   "outputs": [
    {
     "name": "stdout",
     "output_type": "stream",
     "text": [
      "Matching doc: Nothing to see here\n",
      "Matching doc: This is a great and long example\n"
     ]
    }
   ],
   "source": [
    "for doc_idx in hits_list:\n",
    "    print(\"Matching doc:\", documents[doc_idx])"
   ]
  },
  {
   "cell_type": "markdown",
   "metadata": {},
   "source": [
    "Let us enumerate the documents:"
   ]
  },
  {
   "cell_type": "code",
   "execution_count": 24,
   "metadata": {},
   "outputs": [
    {
     "name": "stdout",
     "output_type": "stream",
     "text": [
      "Matching doc #0: Nothing to see here\n",
      "Matching doc #1: This is a great and long example\n"
     ]
    }
   ],
   "source": [
    "for i, doc_idx in enumerate(hits_list):\n",
    "    print(\"Matching doc #{:d}: {:s}\".format(i, documents[doc_idx]))"
   ]
  },
  {
   "cell_type": "markdown",
   "metadata": {},
   "source": [
    "At this point you can write your own simple search engine, which supports Boolean queries. Next you will need to put to together your own program, in which you index a more realistic document collection and run your queries against that collection."
   ]
  }
 ],
 "metadata": {
  "kernelspec": {
   "display_name": "Python 3",
   "language": "python",
   "name": "python3"
  },
  "language_info": {
   "codemirror_mode": {
    "name": "ipython",
    "version": 3
   },
   "file_extension": ".py",
   "mimetype": "text/x-python",
   "name": "python",
   "nbconvert_exporter": "python",
   "pygments_lexer": "ipython3",
   "version": "3.6.0"
  }
 },
 "nbformat": 4,
 "nbformat_minor": 2
}
